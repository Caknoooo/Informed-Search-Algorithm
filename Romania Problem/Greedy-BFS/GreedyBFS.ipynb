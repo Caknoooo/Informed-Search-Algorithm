{
 "cells": [
  {
   "cell_type": "code",
   "execution_count": 14,
   "metadata": {},
   "outputs": [],
   "source": [
    "import heapq\n",
    "romania = {}\n"
   ]
  },
  {
   "cell_type": "code",
   "execution_count": 15,
   "metadata": {},
   "outputs": [],
   "source": [
    "class PriorityQueue:\n",
    "    def __init__(self) -> None:\n",
    "        self.cities = []\n",
    "\n",
    "    def isEmpty(self):\n",
    "        if self.cities == []:\n",
    "            return True\n",
    "        return False\n",
    "\n",
    "    def check(self):\n",
    "        print(self.cities)\n",
    "\n",
    "    def push(self, city, cost):\n",
    "        heapq.heappush(self.cities, (cost, city))\n",
    "    \n",
    "    def pop(self):\n",
    "        return heapq.heappop(self.cities)[1]\n"
   ]
  },
  {
   "cell_type": "code",
   "execution_count": 16,
   "metadata": {},
   "outputs": [],
   "source": [
    "class CityNode:\n",
    "  def __init__(self, city, distance) -> None:\n",
    "    self.city = str(city)\n",
    "    self.distance = str(distance)"
   ]
  },
  {
   "cell_type": "code",
   "execution_count": 17,
   "metadata": {},
   "outputs": [],
   "source": [
    "def makeDict():\n",
    "    file = open(\"Jalan.txt\", 'r')\n",
    "    for str in file:\n",
    "        delimeter = str.split(',')\n",
    "        city1 = delimeter[0]\n",
    "        city2 = delimeter[1]\n",
    "        dist = delimeter[2]\n",
    "        romania.setdefault(city1, []).append(CityNode(city2, dist))\n",
    "        romania.setdefault(city2, []).append(CityNode(city1, dist))\n",
    "        "
   ]
  },
  {
   "cell_type": "code",
   "execution_count": 18,
   "metadata": {},
   "outputs": [],
   "source": [
    "def makeHeuristicDict():\n",
    "    h = {}\n",
    "    file = open(\"HeuristicJalan.txt\", 'r')\n",
    "    for str in file:\n",
    "        delimeter = str.strip().split(',')\n",
    "        node = delimeter[0].strip()\n",
    "        sld  = int(delimeter[1].strip()) # Jalan lurus\n",
    "        h[node] = sld\n",
    "    return h\n",
    "\n",
    "def heuristic(node, values):\n",
    "    return values[node]\n"
   ]
  },
  {
   "cell_type": "code",
   "execution_count": 19,
   "metadata": {},
   "outputs": [],
   "source": [
    "def greedyBFS(start, end):\n",
    "    path = {}\n",
    "    q = PriorityQueue()\n",
    "    h = makeHeuristicDict()\n",
    "\n",
    "    q.push(start, 0)\n",
    "    path[start] = None\n",
    "    expandList = []\n",
    "\n",
    "    while q.isEmpty() == False:\n",
    "        curr = q.pop()\n",
    "        expandList.append(curr)\n",
    "\n",
    "        if curr == end:\n",
    "            break\n",
    "        \n",
    "        for new in romania[curr]:\n",
    "            if new.city not in path:\n",
    "                f_cost = heuristic(new.city, h)\n",
    "                q.push(new.city, f_cost)\n",
    "                path[new.city] = curr\n",
    "\n",
    "    printOutput(start, end, path, expandList)\n",
    "\n",
    "def printOutput(start, end, path, expandList):\n",
    "    finalpath = []\n",
    "    i = end\n",
    "\n",
    "    while (path.get(i) != None):\n",
    "        finalpath.append(i)\n",
    "        i = path[i]\n",
    "    finalpath.append(start)\n",
    "    finalpath.reverse()\n",
    "\n",
    "    print(\"Membuat Program Greedy Best-First-Search Sederhana\")\n",
    "    print(\"\\tArad => Bucharest\")\n",
    "    print(\"==============================================================================================================\")\n",
    "    print(\"Kota yg mungkin dijelajah \\t\\t: \" + str(expandList))\n",
    "    print(\"Jumlah kemungkinan kota \\t\\t: \" + str(len(expandList)))\n",
    "    print(\"==============================================================================================================\")\n",
    "    print(\"Kota yg dilewati dg jarak terpendek\\t: \" + str(finalpath))\n",
    "    print(\"Jumlah kota yang dilewati \\t\\t: \" + str(len(finalpath)))\n",
    "    print(\"==============================================================================================================\")\n"
   ]
  },
  {
   "cell_type": "code",
   "execution_count": 20,
   "metadata": {},
   "outputs": [
    {
     "name": "stdout",
     "output_type": "stream",
     "text": [
      "Membuat Program Greedy Best-First-Search Sederhana\n",
      "\tArad => Bucharest\n",
      "==============================================================================================================\n",
      "Kota yg mungkin dijelajah \t\t: ['Arad', 'Sibiu', 'Fagaras', 'Bucharest']\n",
      "Jumlah kemungkinan kota \t\t: 4\n",
      "==============================================================================================================\n",
      "Kota yg dilewati dg jarak terpendek\t: ['Arad', 'Sibiu', 'Fagaras', 'Bucharest']\n",
      "Jumlah kota yang dilewati \t\t: 4\n",
      "==============================================================================================================\n"
     ]
    }
   ],
   "source": [
    "def main():\n",
    "    src = \"Arad\"\n",
    "    dst = \"Bucharest\"\n",
    "    makeDict()\n",
    "    greedyBFS(src, dst)\n",
    "\n",
    "if __name__ == \"__main__\":\n",
    "    main()"
   ]
  }
 ],
 "metadata": {
  "kernelspec": {
   "display_name": "Python 3",
   "language": "python",
   "name": "python3"
  },
  "language_info": {
   "codemirror_mode": {
    "name": "ipython",
    "version": 3
   },
   "file_extension": ".py",
   "mimetype": "text/x-python",
   "name": "python",
   "nbconvert_exporter": "python",
   "pygments_lexer": "ipython3",
   "version": "3.11.1"
  },
  "orig_nbformat": 4
 },
 "nbformat": 4,
 "nbformat_minor": 2
}
